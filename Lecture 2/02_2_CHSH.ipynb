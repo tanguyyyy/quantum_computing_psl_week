{
 "cells": [
  {
   "cell_type": "markdown",
   "metadata": {},
   "source": [
    "*Estimated QPU usage: 4 minutes (tested on IBM Kyiv)*\n",
    "\n",
    "## Background\n",
    "\n",
    "In this tutorial, you will run an experiment on a quantum computer to demonstrate the violation of the CHSH inequality with the Estimator primitive.\n",
    "\n",
    "The CHSH inequality, named after the authors Clauser, Horne, Shimony, and Holt, is used to experimentally prove Bell's theorem (1969). This theorem asserts that local hidden variable theories cannot account for some consequences of entanglement in quantum mechanics. The violation of the CHSH inequality is used to show that quantum mechanics is incompatible with local hidden-variable theories. This is an important experiment for understanding the foundation of quantum mechanics.\n",
    "\n",
    "The 2022 Nobel Prize for Physics was awarded to Alain Aspect, John Clauser and Anton Zeilinger in part for their pioneering work in quantum information science, and in particular, for their experiments with entangled photons demonstrating violation of Bell’s inequalities.\n"
   ]
  },
  {
   "cell_type": "markdown",
   "metadata": {},
   "source": [
    "## Step 1. Map classical inputs to a quantum problem\n"
   ]
  },
  {
   "cell_type": "markdown",
   "metadata": {},
   "source": [
    "For this experiment, we will create an entangled pair on which we measure each qubit on two different bases. We will label the bases for the first qubit $A$ and $a$ and the bases for the second qubit $B$ and $b$.  This allows us to compute the CHSH quantity $S_1$:\n",
    "\n",
    "$$\n",
    "S_1 = A(B-b) + a(B+b).\n",
    "$$\n",
    "\n",
    "Each observable is either $+1$ or $-1$. Clearly, one of the terms $B\\pm b$ must be $0$, and the other must be $\\pm 2$.  Therefore, $S_1 = \\pm 2$. The average value of $S_1$ must satisfy the inequality:\n",
    "\n",
    "$$\n",
    "|\\langle S_1 \\rangle|\\leq 2.\n",
    "$$\n",
    "\n",
    "Expanding $S_1$ in terms of $A$, $a$, $B$, and $b$ results in:\n",
    "\n",
    "$$\n",
    "|\\langle S_1 \\rangle| = |\\langle AB \\rangle - \\langle Ab \\rangle + \\langle aB \\rangle + \\langle ab \\rangle| \\leq 2\n",
    "$$\n",
    "\n",
    "You can define another CHSH quantity $S_2$:\n",
    "\n",
    "$$\n",
    "S_2 = A(B+b) - a(B-b),\n",
    "$$\n",
    "\n",
    "This leads to another inequality:\n",
    "\n",
    "$$\n",
    "|\\langle S_2 \\rangle| = |\\langle AB \\rangle + \\langle Ab \\rangle - \\langle aB \\rangle + \\langle ab \\rangle| \\leq 2\n",
    "$$\n",
    "\n",
    "If quantum mechanics can be described by local hidden variable theories, the previous inequalities must hold true. However, as is demonstrated in this notebook, these inequalities can be violated in a quantum computer.  Therefore, quantum mechanics is not compatible with local hidden variable theories.\n"
   ]
  },
  {
   "cell_type": "markdown",
   "metadata": {},
   "source": [
    "You will create an entangled pair between two qubits in a quantum computer by creating the Bell state $|\\Phi^+\\rangle = \\frac{|00\\rangle + |11\\rangle}{\\sqrt{2}}$. Using the Estimator primitive, you can directly obtain the expectation values needed ($\\langle AB \\rangle, \\langle Ab \\rangle, \\langle aB \\rangle$, and $\\langle ab \\rangle$) to calculate the expectation values of the two CHSH quantities $\\langle S_1\\rangle$ and $\\langle S_2\\rangle$. Before the introduction of the Estimator primitive, you would have to construct the expectation values from the measurement outcomes.\n",
    "\n",
    "You will measure the second qubit in the $Z$ and $X$ bases.  The first qubit will be measured also in orthogonal bases, but with an angle with respect to the second qubit, which we are going to sweep between $0$ and $2\\pi$. As you will see, the Estimator primitive makes running parameterized circuits very easy. Rather than creating a series of CHSH circuits, you only need to create *one* CHSH circuit with a parameter specifying the measurement angle and a series of phase values for the parameter.\n",
    "\n",
    "Finally, you will analyze the results and plot them against the measurement angle. You will see that for certain range of measurement angles, the expectation values of CHSH quantities $|\\langle S_1\\rangle| > 2$ or $|\\langle S_2\\rangle| > 2$, which demonstrates the violation of the CHSH inequality.\n"
   ]
  },
  {
   "cell_type": "code",
   "execution_count": null,
   "metadata": {},
   "outputs": [],
   "source": [
    "from qiskit_aer import AerSimulator\n",
    "from qiskit_ibm_runtime import Options, Session, SamplerV2 as Sampler\n",
    "backend_sim = AerSimulator()\n",
    "simulator = AerSimulator()\n",
    "\n",
    "#Import an estimator, this time from qiskit (we import from Runtime for real hardware)\n",
    "from qiskit.primitives import BackendSampler\n",
    "sampler = BackendSampler(backend = backend_sim)\n",
    "import numpy as np\n",
    "from qiskit.visualization import plot_bloch_vector, plot_histogram\n",
    "import matplotlib.pyplot as plt\n",
    "\n",
    "from qiskit.circuit import QuantumRegister, ClassicalRegister, QuantumCircuit, Parameter\n",
    "from qiskit import QuantumCircuit, transpile\n",
    "from qiskit.result import marginal_counts\n",
    "from qiskit.quantum_info import SparsePauliOp\n",
    "from qiskit_ibm_runtime import EstimatorV2 as Estimator\n",
    "\n",
    "\n",
    "import matplotlib.ticker as tck\n",
    "\n"
   ]
  },
  {
   "cell_type": "code",
   "execution_count": null,
   "metadata": {},
   "outputs": [],
   "source": [
    "backend = AerSimulator()"
   ]
  },
  {
   "cell_type": "markdown",
   "metadata": {},
   "source": [
    "### On qubit 1 we are going to measure in the A = X basis and on the orthogonal a = Z basis\n",
    "### On qubit 2 we are going to measure in two orthogonal basis B,b which are rotated by an angle $\\theta$ from the first one"
   ]
  },
  {
   "cell_type": "code",
   "execution_count": null,
   "metadata": {},
   "outputs": [],
   "source": [
    "number_of_phases = 21\n",
    "phases = np.linspace(0, 2 * np.pi, number_of_phases)\n",
    "# Phases need to be expressed as list of lists in order to work\n",
    "individual_phases = [[ph] for ph in phases]\n",
    "\n",
    "# <CHSH1> = <AB> - <Ab> + <aB> + <ab> -> <ZZ> - <ZX> + <XZ> + <XX>\n",
    "\n",
    "# <CHSH2> = <AB> + <Ab> - <aB> + <ab> -> <ZZ> + <ZX> - <XZ> + <XX>\n"
   ]
  },
  {
   "cell_type": "markdown",
   "metadata": {},
   "source": [
    "### We can test two different order in the inequality\n",
    "$$\n",
    "<CHSH1> = <AB> - <Ab> + <aB> + <ab> -> <ZZ> - <ZX> + <XZ> + <XX>\n",
    "$$\n",
    "$$\n",
    "<CHSH2> = <AB> + <Ab> - <aB> + <ab> -> <ZZ> + <ZX> - <XZ> + <XX>\n",
    "$$"
   ]
  },
  {
   "cell_type": "markdown",
   "metadata": {},
   "source": [
    "We need therefore to prepare 4 different circuits (4 different measurements), and save the average values"
   ]
  },
  {
   "cell_type": "code",
   "execution_count": null,
   "metadata": {},
   "outputs": [],
   "source": [
    "# Here you are the basic circuit to prepare the Bell state and rotate the first qubit axis measurement by theta\n",
    "from qiskit.transpiler.preset_passmanagers import generate_preset_pass_manager\n",
    "\n",
    "target = backend.target\n",
    "pm = generate_preset_pass_manager(target=target, optimization_level=3)\n",
    "\n",
    "chsh_isa_circuit = pm.run(chsh_circuit)\n",
    "chsh_isa_circuit.draw(output=\"mpl\", idle_wires=False, style=\"iqp\")"
   ]
  },
  {
   "cell_type": "code",
   "execution_count": null,
   "metadata": {},
   "outputs": [],
   "source": [
    "# Exercise: Build the 4 circuits and measure the expectation value of the CHSH operator (you can use the parametrized circuit)\n",
    "\n",
    "#Example, measuring <ZZ>\n",
    "chsh_circuits = []\n",
    "number_of_phases = 10\n",
    "phases = np.linspace(0, 2 * np.pi, number_of_phases)\n",
    "theta = Parameter(\"$\\\\theta$\")\n",
    "\n",
    "chsh_circuit = QuantumCircuit(2)\n",
    "chsh_circuit.h(0)\n",
    "chsh_circuit.cx(0, 1)\n",
    "chsh_circuit.ry(theta, 0)\n",
    "chsh_circuit.measure_all()\n",
    "chsh_circuit.draw(output=\"mpl\", idle_wires=False, style=\"iqp\")\n"
   ]
  },
  {
   "cell_type": "code",
   "execution_count": null,
   "metadata": {},
   "outputs": [],
   "source": [
    "# Add how to simulate this "
   ]
  },
  {
   "cell_type": "code",
   "execution_count": null,
   "metadata": {},
   "outputs": [],
   "source": [
    "fig, ax = plt.subplots(figsize=(10, 6))\n",
    "\n",
    "# save in chsh1_est the expectation value just computed for <ZZ> per each phase\n",
    "# save in chsh2_est the expectation value just computed for <XX> per each phase\n",
    "\n",
    "# results from hardware\n",
    "ax.plot(phases / np.pi, chsh1_est, \"o-\", label=\"CHSH1\", zorder=3)\n",
    "ax.plot(phases / np.pi, chsh2_est, \"o-\", label=\"CHSH2\", zorder=3)\n",
    "\n",
    "# classical bound +-2\n",
    "ax.axhline(y=2, color=\"0.9\", linestyle=\"--\")\n",
    "ax.axhline(y=-2, color=\"0.9\", linestyle=\"--\")\n",
    "\n",
    "# quantum bound, +-2√2\n",
    "ax.axhline(y=np.sqrt(2) * 2, color=\"0.9\", linestyle=\"-.\")\n",
    "ax.axhline(y=-np.sqrt(2) * 2, color=\"0.9\", linestyle=\"-.\")\n",
    "ax.fill_between(phases / np.pi, 2, 2 * np.sqrt(2), color=\"0.6\", alpha=0.7)\n",
    "ax.fill_between(phases / np.pi, -2, -2 * np.sqrt(2), color=\"0.6\", alpha=0.7)\n",
    "\n",
    "# set x tick labels to the unit of pi\n",
    "ax.xaxis.set_major_formatter(tck.FormatStrFormatter(\"%g $\\\\pi$\"))\n",
    "ax.xaxis.set_major_locator(tck.MultipleLocator(base=0.5))\n",
    "\n",
    "# set labels, and legend\n",
    "plt.xlabel(\"Theta\")\n",
    "plt.ylabel(\"CHSH witness\")\n",
    "plt.legend()\n",
    "plt.show()"
   ]
  },
  {
   "cell_type": "markdown",
   "metadata": {},
   "source": [
    "### Using the codes of yesterday, proceed now to run it on a QPU"
   ]
  },
  {
   "cell_type": "code",
   "execution_count": null,
   "metadata": {},
   "outputs": [],
   "source": [
    "# transpiling the circuits\n",
    "from qiskit_ibm_runtime import QiskitRuntimeService\n",
    "# Let s find the least busy backend\n",
    "service = QiskitRuntimeService(channel='ibm_quantum')\n",
    "backend = service.least_busy()\n",
    "print(backend.name)\n",
    "sampler = Sampler(mode=backend)\n",
    "sampler.options.default_shots = 100\n",
    "\n",
    "from qiskit.transpiler.preset_passmanagers import generate_preset_pass_manager\n",
    "pm = generate_preset_pass_manager(optimization_level=3, backend=backend) \n"
   ]
  }
 ],
 "metadata": {
  "kernelspec": {
   "display_name": "venv",
   "language": "python",
   "name": "python3"
  },
  "language_info": {
   "codemirror_mode": {
    "name": "ipython",
    "version": 3
   },
   "file_extension": ".py",
   "mimetype": "text/x-python",
   "name": "python",
   "nbconvert_exporter": "python",
   "pygments_lexer": "ipython3",
   "version": "3.9.6"
  }
 },
 "nbformat": 4,
 "nbformat_minor": 2
}
