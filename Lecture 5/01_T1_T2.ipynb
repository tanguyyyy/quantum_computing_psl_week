{
 "cells": [
  {
   "cell_type": "markdown",
   "metadata": {},
   "source": [
    "# Errors on real Quantum Processing Units"
   ]
  },
  {
   "cell_type": "code",
   "execution_count": null,
   "metadata": {},
   "outputs": [],
   "source": [
    "# Qiskit setup\n",
    "from qiskit_ibm_runtime import QiskitRuntimeService\n",
    "\n"
   ]
  },
  {
   "cell_type": "code",
   "execution_count": null,
   "metadata": {},
   "outputs": [],
   "source": [
    "# This uses a local simulator\n",
    "from qiskit_aer import AerSimulator\n",
    "\n",
    "#Load the Runtime primitive and session\n",
    "from qiskit_ibm_runtime import Options, Session, SamplerV2 as Sampler\n",
    "\n",
    "# #Use the least busy backend\n",
    "# service = QiskitRuntimeService(channel='ibm_quantum')\n",
    "# backend = service.least_busy()\n",
    "# print(backend.name)\n",
    "# This generates a simulator that mimics the real quantum system\n",
    "backend_sim = AerSimulator()\n",
    "\n",
    "#Import an estimator, this time from qiskit (we import from Runtime for real hardware)\n",
    "from qiskit.primitives import BackendSampler\n",
    "service = QiskitRuntimeService(channel='ibm_quantum')\n",
    "backend = service.least_busy()\n",
    "print(backend.name)\n",
    "sampler = Sampler(mode=backend)\n",
    "sampler.options.default_shots = 100\n"
   ]
  },
  {
   "cell_type": "code",
   "execution_count": null,
   "metadata": {},
   "outputs": [],
   "source": [
    "from qiskit_aer import AerSimulator\n",
    "from qiskit_ibm_runtime import Options, Session, SamplerV2 as Sampler\n",
    "backend_sim = AerSimulator()\n",
    "simulator = AerSimulator()\n",
    "\n",
    "#Import an estimator, this time from qiskit (we import from Runtime for real hardware)\n",
    "from qiskit.primitives import BackendSampler\n",
    "sampler = BackendSampler(backend = backend_sim)\n",
    "import numpy as np\n",
    "from qiskit.visualization import plot_bloch_vector, plot_histogram\n",
    "import matplotlib.pyplot as plt\n",
    "\n",
    "from qiskit.circuit import QuantumRegister, ClassicalRegister, QuantumCircuit, Parameter\n",
    "from qiskit import QuantumCircuit, transpile\n",
    "from qiskit.result import marginal_counts\n",
    "from qiskit.quantum_info import SparsePauliOp\n",
    "from qiskit_ibm_runtime import EstimatorV2 as Estimator\n",
    "\n",
    "\n",
    "import matplotlib.ticker as tck\n",
    "\n"
   ]
  },
  {
   "cell_type": "markdown",
   "metadata": {},
   "source": [
    "# **Estimate $ T_1 $ Decay Time**  \n",
    "\n",
    "As you have seen during the lectures, when a qubit is initialized in the excited state $ |1\\rangle $, it tends to decay to the ground state $ |0\\rangle $ over time due to **energy relaxation**. This process is characterized by the **longitudinal relaxation time** $ T_1 $, which measures how long a qubit retains its excited state before spontaneously decaying.  \n",
    "\n",
    "## **Physical Origin of $ T_1 $ Relaxation**  \n",
    "The $ T_1 $ relaxation process occurs due to interactions between the qubit and its environment, such as:  \n",
    "- **Spontaneous emission**: The qubit emits a photon and relaxes to the ground state.  \n",
    "- **Dielectric losses**: Energy dissipates into surrounding materials in superconducting qubits.  \n",
    "- **Purcell effect**: Coupling to a resonator can accelerate the decay rate.  \n",
    "\n",
    "## **Experimental Measurement of $ T_1 $**\n",
    "To experimentally determine $ T_1 $, we perform the following steps:  \n",
    "\n",
    "1. **Prepare the qubit in the excited state $ |1\\rangle $**  \n",
    "   - Apply a $ \\pi $-pulse (a 180° rotation) to an initially $ |0\\rangle $ state.  \n",
    "2. **Wait for a variable delay time $ t $**  \n",
    "   - Allow the system to evolve freely, during which the qubit decays to $ |0\\rangle $.  \n",
    "3. **Measure the probability of finding the qubit in $ |1\\rangle $**  \n",
    "   - Perform a projective measurement in the computational basis.  \n",
    "4. **Fit the data to an exponential decay model**  \n",
    "   - The probability of remaining in $ |1\\rangle $ follows:  \n",
    "\n",
    "$$\n",
    "P_1 (t) = P_1(0) e^{-t/T_1}\n",
    "$$\n",
    "\n",
    "where $ P_1(0) $ is the initial population in $ |1\\rangle $, and $ P_1(t) $ is the probability of remaining in $ |1\\rangle $ after time $ t $.  \n",
    "\n",
    "## **Visualization of the Decay Process**\n",
    "Plotting $ P_1(t) $ as a function of $ t $ on a semi-log scale should yield a straight line with a slope of $ -1/T_1 $. The characteristic decay time $ T_1 $ can be extracted by fitting the experimental data to the exponential model.  \n",
    "\n",
    "## **Impact of $ T_1 $ on Quantum Computation**\n",
    "- **Gate fidelity**: A long $ T_1 $ is crucial for high-fidelity quantum gates, as energy relaxation can lead to errors.  \n",
    "- **Qubit initialization**: Short $ T_1 $ can enable faster qubit reset, improving circuit execution speed.  \n",
    "- **Quantum error correction**: If $ T_1 $ is too short, it limits the time available for error correction before information is lost.  \n",
    "\n",
    "By measuring and optimizing $ T_1 $, we can better understand and mitigate decoherence, improving the performance of quantum devices. Now, let's proceed with the experiment to determine the $ T_1 $ of our qubit. \n"
   ]
  },
  {
   "cell_type": "code",
   "execution_count": null,
   "metadata": {},
   "outputs": [],
   "source": [
    "qc = QuantumCircuit(1,1)\n",
    "qc.x(0)\n",
    "# we add a delay to the circuit\n",
    "T = 100e-6 # 100 microseconds\n",
    "qc.delay(T,unit=\"s\") # This is a delay of 100 microseconds \n",
    "\n",
    "qc.measure(0,0)\n",
    "qc.draw('mpl')"
   ]
  },
  {
   "cell_type": "markdown",
   "metadata": {},
   "source": [
    "# We can now simulate the circuit on a QPU"
   ]
  },
  {
   "cell_type": "code",
   "execution_count": null,
   "metadata": {},
   "outputs": [],
   "source": [
    "\n",
    "#Import an estimator, this time from qiskit (we import from Runtime for real hardware)\n",
    "from qiskit.primitives import BackendSampler\n",
    "service = QiskitRuntimeService(channel='ibm_quantum')\n",
    "backend = service.least_busy()\n",
    "print(backend.name)\n",
    "sampler = Sampler(mode=backend)\n",
    "sampler.options.default_shots = 100\n",
    "\n"
   ]
  },
  {
   "cell_type": "markdown",
   "metadata": {},
   "source": [
    "## We run the circuit on a specific qubit (# 80)"
   ]
  },
  {
   "cell_type": "code",
   "execution_count": null,
   "metadata": {},
   "outputs": [],
   "source": [
    "from qiskit.transpiler.preset_passmanagers import generate_preset_pass_manager\n",
    "\n",
    "\n",
    "physical_qubit = 80\n",
    "\n",
    "pm = generate_preset_pass_manager(optimization_level=3, backend=backend, scheduling_method='asap', initial_layout=[physical_qubit]) "
   ]
  },
  {
   "cell_type": "code",
   "execution_count": null,
   "metadata": {},
   "outputs": [],
   "source": [
    "qc_ibm = pm.run(qc)\n",
    "qc_ibm.draw('mpl', idle_wires=False)\n"
   ]
  },
  {
   "cell_type": "code",
   "execution_count": null,
   "metadata": {},
   "outputs": [],
   "source": [
    "sampler = Sampler(mode=backend)\n",
    "job = sampler.run([(qc_ibm)], shots = 100)\n",
    "print(f\">>> Job ID: {job.job_id()}\")\n",
    "print(f\">>> Job Status: {job.status()}\")"
   ]
  },
  {
   "cell_type": "code",
   "execution_count": null,
   "metadata": {},
   "outputs": [],
   "source": [
    "print(f\">>> Job Status: {job.status()}\")"
   ]
  },
  {
   "cell_type": "code",
   "execution_count": null,
   "metadata": {},
   "outputs": [],
   "source": [
    "res = job.result()\n",
    "res[0].data.c.get_counts()\n",
    "plot_histogram(res[0].data.c.get_counts(),title= f\"Z measurement after {T} seconds\")"
   ]
  },
  {
   "cell_type": "markdown",
   "metadata": {},
   "source": [
    "### We can now run this circuit for different delay times"
   ]
  },
  {
   "cell_type": "code",
   "execution_count": null,
   "metadata": {},
   "outputs": [],
   "source": [
    "# Initialize the quantum circuit for different delays\n",
    "# In this case you cannot create a parametric circuit, so you need to create a new circuit for each delay\n",
    "\n",
    "delays = np.linspace(0,2e-3, 20) \n",
    "qcs = []\n",
    "for delay in delays:\n",
    "    qc = QuantumCircuit(1,1)\n",
    "    qc.x(0)\n",
    "    qc.delay(delay,unit=\"s\") # This is a delay of 100 microseconds\n",
    "    qc.measure(0,0)\n",
    "    qcs.append(qc)\n",
    "\n",
    "qcs[3].draw('mpl')"
   ]
  },
  {
   "cell_type": "code",
   "execution_count": null,
   "metadata": {},
   "outputs": [],
   "source": [
    "physical_qubit = 46\n",
    "pm = generate_preset_pass_manager(optimization_level=3, backend=backend, scheduling_method='asap', timing_constraints=\"1\" , initial_layout=[physical_qubit]) \n",
    "qcs_ibm = [pm.run(qc) for qc in qcs]"
   ]
  },
  {
   "cell_type": "code",
   "execution_count": null,
   "metadata": {},
   "outputs": [],
   "source": [
    "# sampler = Sampler(mode=sim)\n",
    "\n",
    "#sampler = Sampler(mode=backend)\n",
    "num_shots = 100\n",
    "job = sampler.run(qcs_ibm, shots = num_shots)\n",
    "print(f\">>> Job ID: {job.job_id()}\")\n",
    "print(f\">>> Job Status: {job.status()}\")"
   ]
  },
  {
   "cell_type": "code",
   "execution_count": null,
   "metadata": {},
   "outputs": [],
   "source": [
    "print(f\">>> Job Status: {job.status()}\")"
   ]
  },
  {
   "cell_type": "code",
   "execution_count": null,
   "metadata": {},
   "outputs": [],
   "source": [
    "res = job.result()"
   ]
  },
  {
   "cell_type": "code",
   "execution_count": null,
   "metadata": {},
   "outputs": [],
   "source": [
    "# Extract the probabilities of measuring 1 for each delay\n",
    "probs = []\n",
    "sigmas = []\n",
    "for i in range(len(delays)):\n",
    "    counts = res[i].data.c.get_counts()\n",
    "    probs.append(counts.get(\"1\",0)/num_shots) \n",
    "    sigmas.append(np.sqrt((probs[i]*(1-probs[i]))/num_shots))\n"
   ]
  },
  {
   "cell_type": "code",
   "execution_count": null,
   "metadata": {},
   "outputs": [],
   "source": [
    "import matplotlib.pyplot as plt\n",
    "\n",
    "plt.scatter(delays, probs)\n",
    "plt.xlabel(r\"t (s)\")\n",
    "plt.ylabel(r\"$P_{1,1}$\")\n",
    "plt.errorbar(delays, probs, yerr=sigmas, fmt='o')\n",
    "plt.title(\"T1 measurement\")\n",
    "\n",
    "plt.xticks(rotation=45)  # Rotate labels by 45 degrees to prevent overlap\n",
    "plt.ticklabel_format(style='sci', axis='x', scilimits=(0, 0))  # Use scientific notation for x-axis\n",
    "plt.show()"
   ]
  },
  {
   "cell_type": "markdown",
   "metadata": {},
   "source": [
    "# As expected the result resembles an exponential. \n",
    "### We can fit the decay constant ($T_1$) by fitting with an exponential\n",
    "$$\n",
    "P_{11}(t) = e^{-\\frac{t}{T_1}}\n",
    "$$\n",
    "using scipy.optimize package"
   ]
  },
  {
   "cell_type": "code",
   "execution_count": null,
   "metadata": {},
   "outputs": [],
   "source": [
    "from scipy.optimize import curve_fit\n",
    "\n",
    "# Define the exponential function\n",
    "def exp_decay(t, T1):\n",
    "    return np.exp(-t / T1)\n",
    "\n",
    "# Fit the data\n",
    "popt, pcov = curve_fit(exp_decay, delays, probs)\n",
    "T1 = popt[0]\n",
    "\n",
    "# Plot the results\n",
    "plt.errorbar(delays, probs, yerr=sigmas, fmt='o')\n",
    "plt.xlabel(\"t (s)\")\n",
    "plt.ylabel(r\"$P_{1,1}$\")\n",
    "plt.title(\"T1 measurement - fit\")\n",
    "\n",
    "plt.xticks(rotation=45)  # Rotate labels by 45 degrees to prevent overlap\n",
    "plt.ticklabel_format(style='sci', axis='x', scilimits=(0, 0))  # Use scientific notation for x-axis\n",
    "plt.plot(delays, exp_decay(delays, T1), '-', label=f'Fit: $T_1$ = {T1:.2e} s')\n",
    "\n",
    "plt.legend()\n",
    "plt.show()"
   ]
  },
  {
   "cell_type": "markdown",
   "metadata": {},
   "source": [
    "# **$T_2$ Measurement**  \n",
    "\n",
    "## **$T_2$ Rate and Environmental Decoherence**  \n",
    "The $T_2$ rate describes the rate at which the environment **measures** the system, or in another phrasing, the rate at which the state:\n",
    "\n",
    "$$ \n",
    "|+\\rangle\\langle + | = \\frac{1}{\\sqrt{2}} (|0\\rangle + |1\\rangle) \\quad \\rightarrow \\quad \\frac{1}{2} (|0\\rangle\\langle0| + |1\\rangle\\langle1|) \n",
    "$$\n",
    "\n",
    "loses coherence and evolves into a classical probabilistic mixture of $|0\\rangle$ and $|1\\rangle$.  \n",
    "\n",
    "To measure $T_2$, we initialize the system on the **equator** of the Bloch sphere, where the quantum state is in a **superposition**. We then let it **idle for a time $T$**, allowing the environment to interact with it. Finally, we **project the state back to the computational basis** and measure. The coherence decay follows an exponential function:\n",
    "\n",
    "$$\n",
    "P_+ (t) = P_+(0) e^{-t/T_2}\n",
    "$$\n",
    "\n",
    "where $P_+(t)$ is the probability of finding the system in the original superposition state at time $t$.  \n",
    "\n",
    "---  \n",
    "\n",
    "# **$T_2$ Ramsey Experiment**  \n",
    "\n",
    "A **Ramsey experiment** is a standard method to measure $T_2^*$, the **dephasing time** that includes inhomogeneous broadening effects. The steps for the Ramsey sequence are:  \n",
    "\n",
    "1. **Prepare the qubit in $ |+\\rangle $**  \n",
    "   - Apply a **Hadamard gate** (or a $ \\frac{\\pi}{2} $ pulse) to transform $ |0\\rangle $ into $ |+\\rangle $.  \n",
    "2. **Let the qubit evolve freely for a time $ T $**  \n",
    "   - During this time, environmental noise and frequency detuning lead to phase accumulation.  \n",
    "3. **Apply a second Hadamard gate**  \n",
    "   - This projects the qubit state back onto the computational basis.  \n",
    "4. **Measure in the computational basis**  \n",
    "   - The probability oscillates as a function of $ T $, forming **Ramsey fringes**.  \n",
    "\n",
    "The observed probability oscillates as:\n",
    "\n",
    "$$\n",
    "P_0 (t) = \\frac{1}{2} \\left( 1 + e^{-t/T_2^*} \\cos(\\Delta \\omega t) \\right)\n",
    "$$\n",
    "\n",
    "where:  \n",
    "- $ T_2^* $ is the **inhomogeneous dephasing time**, limited by frequency fluctuations and noise.  \n",
    "- $ \\Delta \\omega $ is the detuning between the qubit frequency and the applied control field.  \n",
    "\n",
    "By fitting the **envelope** of the Ramsey fringes to an exponential decay, we extract $ T_2^* $. The true **$T_2$ (spin echo dephasing time)** can be extracted using a **Hahn echo** experiment, which removes inhomogeneous broadening effects.  \n",
    "\n",
    "---  \n",
    "\n",
    "These experiments are essential for understanding **quantum coherence** and improving the performance of qubits in quantum processors. A long $T_2$ allows for better **gate operations**, **error correction**, and **long-lived quantum memory**."
   ]
  },
  {
   "cell_type": "code",
   "execution_count": null,
   "metadata": {},
   "outputs": [],
   "source": [
    "# Generic circuit\n",
    "T_omega = 100e-6 # 100 microseconds\n",
    "f = 1/T_omega\n",
    "omega = Parameter(\"$\\omega$\")\n",
    "t = Parameter('t')\n",
    "\n",
    "qc_ramsey = QuantumCircuit(1,1)\n",
    "qc_ramsey.sx(0)\n",
    "qc_ramsey.delay(t, unit='s')\n",
    "qc_ramsey.rz(omega *t,0)\n",
    "qc_ramsey.barrier()\n",
    "qc_ramsey.sx(0)\n",
    "qc_ramsey.measure(0,0)\n",
    "qc_ramsey.draw('mpl')"
   ]
  },
  {
   "cell_type": "markdown",
   "metadata": {},
   "source": [
    "Due to current compilation constraints, we are unable to compile circuits that include **delays** or **parametric circuits** directly. As a result, we must construct and execute each circuit **individually**, specifying the required parameters explicitly for every experiment. "
   ]
  },
  {
   "cell_type": "code",
   "execution_count": null,
   "metadata": {},
   "outputs": [],
   "source": [
    "delays_T2 = list(np.arange(0, 250e-6, 20e-6))\n",
    "T_omega = 50e-6 # 100 microseconds\n",
    "f = 1/T_omega\n",
    "omega = 2*np.pi*f\n",
    "qc_ramsey_circuits = []\n",
    "\n",
    "for delay in delays_T2:\n",
    "    qc_ramsey = QuantumCircuit(1,1)\n",
    "    qc_ramsey.sx(0)\n",
    "    qc_ramsey.delay(delay, unit='s')\n",
    "    qc_ramsey.rz(omega * delay,0)\n",
    "    qc_ramsey.barrier()\n",
    "    qc_ramsey.sx(0)\n",
    "    qc_ramsey.measure(0,0)\n",
    "    qc_ramsey_circuits.append(qc_ramsey)\n",
    "qc_ramsey_circuits[0].draw('mpl')"
   ]
  },
  {
   "cell_type": "code",
   "execution_count": null,
   "metadata": {},
   "outputs": [],
   "source": [
    "\n",
    "#Import an estimator, this time from qiskit (we import from Runtime for real hardware)\n",
    "from qiskit.primitives import BackendSampler\n",
    "service = QiskitRuntimeService(channel='ibm_quantum')\n",
    "backend = service.backend(\"ibm_kyiv\")\n",
    "print(backend.name)\n",
    "sampler = Sampler(mode=backend)\n",
    "sampler.options.default_shots = 100\n"
   ]
  },
  {
   "cell_type": "code",
   "execution_count": null,
   "metadata": {},
   "outputs": [],
   "source": [
    "# physical_qubit = 46\n",
    "\n",
    "pm = generate_preset_pass_manager(optimization_level=3, backend=backend, scheduling_method='asap')#, initial_layout=[physical_qubit]) \n",
    "qcs_ibm = [pm.run(qc) for qc in qc_ramsey_circuits]\n"
   ]
  },
  {
   "cell_type": "code",
   "execution_count": null,
   "metadata": {},
   "outputs": [],
   "source": [
    "\n",
    "qcs_ibm[0].draw('mpl', idle_wires=False)"
   ]
  },
  {
   "cell_type": "code",
   "execution_count": null,
   "metadata": {},
   "outputs": [],
   "source": [
    "# sampler = Sampler(mode=sim)\n",
    "\n",
    "#sampler = Sampler(mode=backend)\n",
    "num_shots = 100\n",
    "job = sampler.run(qcs_ibm, shots = num_shots)\n",
    "print(f\">>> Job ID: {job.job_id()}\")\n",
    "print(f\">>> Job Status: {job.status()}\")"
   ]
  },
  {
   "cell_type": "code",
   "execution_count": null,
   "metadata": {},
   "outputs": [],
   "source": [
    "print(f\">>> Job Status: {job.status()}\")"
   ]
  },
  {
   "cell_type": "code",
   "execution_count": null,
   "metadata": {},
   "outputs": [],
   "source": [
    "res = job.result()\n",
    "res[2].data.c.get_counts()"
   ]
  },
  {
   "cell_type": "code",
   "execution_count": null,
   "metadata": {},
   "outputs": [],
   "source": [
    "# Extract the probabilities of measuring 1 for each delay\n",
    "probs = []\n",
    "sigmas = []\n",
    "for i in range(len(delays_T2)):\n",
    "    counts = res[i].data.c.get_counts()\n",
    "    probs.append(counts.get(\"1\",0)/num_shots) \n",
    "    sigmas.append(np.sqrt((probs[i]*(1-probs[i]))/num_shots))"
   ]
  },
  {
   "cell_type": "code",
   "execution_count": null,
   "metadata": {},
   "outputs": [],
   "source": [
    "\n",
    "# Plot the results\n",
    "plt.errorbar(delays_T2, probs,yerr=sigmas, fmt='o', label='Data')\n",
    "plt.xlabel(\"t (s)\")\n",
    "plt.ylabel(r\"P($|1\\rangle$)\")\n",
    "plt.title(\"T2 measurement\")\n",
    "plt.legend()\n",
    "plt.show()"
   ]
  },
  {
   "cell_type": "markdown",
   "metadata": {},
   "source": [
    "## Fit with:\n",
    "$$\n",
    "f(t)=a e^{-t / T_{2^*}} \\cdot \\cos (2 \\pi f t+\\phi)+b\n",
    "$$"
   ]
  },
  {
   "cell_type": "code",
   "execution_count": null,
   "metadata": {},
   "outputs": [],
   "source": [
    "\n",
    "from scipy.optimize import curve_fit\n",
    "\n",
    "\n",
    "# Define the fitting function\n",
    "def fit_func(x,a, tau, freq,phi1 ,base):\n",
    "    \"\"\"Function to fit: amp * exp(-x / tau) * cos(2 * pi * freq * x + phi) + base\"\"\"\n",
    "    return a*np.exp(-x / tau) * (np.cos(2 * np.pi * freq * x  + phi1)) + base\n",
    "                                  \n",
    "# Initial guess for the parameters\n",
    "initial_guess = [0.5, delays_T2[-1], omega/(2*np.pi),0.0,0.5]  # Initial guesses for [a, T2_star, f, phi, b]\n",
    "# bounds = ([0, 0, 0, -np.pi, 0], [1, 1e-2, 2*omega/(2*np.pi), np.pi, 1])  # Adjust bounds\n",
    "\n",
    "for i in range(len(initial_guess)):\n",
    "    if initial_guess[i] < bounds[0][i] or initial_guess[i] > bounds[1][i]:\n",
    "        print (f\"Initial guess {initial_guess[i]} is out of bounds {bounds[0][i]} - {bounds[1][i]}\")\n",
    "        \n",
    "    \n",
    "\n",
    "popt, pcov = curve_fit(fit_func, delays_T2, probs, p0=initial_guess, bounds=bounds)\n",
    "popt"
   ]
  },
  {
   "cell_type": "code",
   "execution_count": null,
   "metadata": {},
   "outputs": [],
   "source": [
    "\n",
    "# Extract the fitted parameters\n",
    "a,T2_star, f, phi1, b = popt\n",
    "# Create a smooth delay range for plotting, ensuring it spans the original delays\n",
    "delay_range = np.linspace(min(delays_T2), max(delays_T2), 1_000)  # Use a fine grid for a smooth curve plot\n",
    "\n",
    "# Plotting the original data and the fitted curve\n",
    "plt.errorbar(delays_T2, probs,yerr=sigmas, fmt='o', label='Data')\n",
    "plt.plot(delay_range, fit_func(delay_range, *popt), label=f'Fit: $T_2^*$ = {T2_star:.2e} s, f = {f:.2e} Hz')  # Plot the fitted curve\n",
    "\n",
    "plt.xticks(rotation=45)  # Rotate labels by 45 degrees to prevent overlap\n",
    "plt.ticklabel_format(style='sci', axis='x', scilimits=(0, 0))  # Use scientific notation for x-axis\n",
    "plt.xlabel(\"t (s)\")\n",
    "plt.ylabel(r\"P($|1\\rangle$)\")\n",
    "plt.title(\"T2 measurement - fit\")\n",
    "plt.legend()\n",
    "plt.show()\n",
    "\n",
    "# Print the fitted parameters\n",
    "print(f\"Fitted parameters:\")\n",
    "print(f\"a = {a:.2f}\")\n",
    "print(f\"T2* = {T2_star:.2e} s\")\n",
    "print(f\"f = {f:.2e} Hz\")\n",
    "print(f\"phi = {phi1:.2f}\")\n",
    "print(f\"b = {b:.2f}\")\n"
   ]
  },
  {
   "cell_type": "code",
   "execution_count": null,
   "metadata": {},
   "outputs": [],
   "source": []
  }
 ],
 "metadata": {
  "kernelspec": {
   "display_name": "venv",
   "language": "python",
   "name": "python3"
  },
  "language_info": {
   "codemirror_mode": {
    "name": "ipython",
    "version": 3
   },
   "file_extension": ".py",
   "mimetype": "text/x-python",
   "name": "python",
   "nbconvert_exporter": "python",
   "pygments_lexer": "ipython3",
   "version": "3.9.6"
  }
 },
 "nbformat": 4,
 "nbformat_minor": 2
}
